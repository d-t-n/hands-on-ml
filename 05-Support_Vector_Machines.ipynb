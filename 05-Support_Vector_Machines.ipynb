{
 "cells": [
  {
   "cell_type": "markdown",
   "metadata": {},
   "source": [
    "# Chapter 5. Support Vector Machines"
   ]
  },
  {
   "cell_type": "markdown",
   "metadata": {},
   "source": [
    "Support Vector Machines (SVMs) are highly capable Machine Learning models that can handle linear or nonlinear classification, regression, and outlier detection tasks. They are widely used and considered essential tools in the field of Machine Learning. \n",
    "\n",
    "SVMs excel in classifying complex datasets of small to medium size. This chapter aims to provide an in-depth understanding of SVMs, their application, and the underlying principles governing their operation."
   ]
  },
  {
   "cell_type": "markdown",
   "metadata": {},
   "source": [
    "### Linear SVM Classification"
   ]
  },
  {
   "cell_type": "markdown",
   "metadata": {},
   "source": [
    "Linear Support Vector Machine (SVM) classification is based on the idea of finding a decision boundary that effectively separates different classes. In the context of a dataset with two classes that are linearly separable, SVM aims to find the best straight line (decision boundary) that separates the classes. \n",
    "\n",
    "Other linear classifiers may fail to correctly separate the classes, or they may be too close to the instances, leading to poorer performance on new data. However, the SVM classifier identifies a decision boundary that not only separates the classes but also maximizes the distance between the boundary and the closest training instances. This large margin between classes is what makes SVM an effective method, akin to fitting the widest possible street between the classes for optimal classification, a concept known as large margin classification."
   ]
  },
  {
   "cell_type": "code",
   "execution_count": null,
   "metadata": {},
   "outputs": [],
   "source": []
  },
  {
   "cell_type": "code",
   "execution_count": null,
   "metadata": {},
   "outputs": [],
   "source": []
  }
 ],
 "metadata": {
  "language_info": {
   "name": "python"
  },
  "orig_nbformat": 4
 },
 "nbformat": 4,
 "nbformat_minor": 2
}
