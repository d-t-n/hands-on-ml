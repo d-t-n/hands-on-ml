{
  "cells": [
    {
      "cell_type": "markdown",
      "metadata": {
        "id": "NnBqKbZKexD_"
      },
      "source": [
        "# Chapter 15. Processing Sequences Using RNNs and CNNs"
      ]
    },
    {
      "cell_type": "markdown",
      "metadata": {
        "id": "tDZYqI7jexEA"
      },
      "source": [
        "RNNs in Focus: The chapter delves into recurrent neural networks (RNNs), a specialized neural network category capable of predicting future events, particularly in time series data.\n",
        "\n",
        "Versatility in Sequence Analysis: RNNs excel in analyzing sequences of arbitrary lengths, proving valuable in applications ranging from stock market predictions to autonomous driving systems and natural language processing tasks.\n",
        "\n",
        "Fundamentals and Training: The chapter covers fundamental concepts of RNNs and details their training using the backpropagation through time technique.\n",
        "\n",
        "Challenges and Solutions: Addressing challenges faced by RNNs, the text discusses unstable gradients and proposes solutions such as recurrent dropout and layer normalization. It also tackles the issue of limited short-term memory, providing insights into extending it using LSTM and GRU cells.\n",
        "\n",
        "Alternative Approaches for Sequential Data: While RNNs are suitable for sequential data, the text acknowledges that regular dense networks and convolutional neural networks (CNNs) can effectively handle small and long sequences, respectively.\n",
        "\n",
        "Introduction to WaveNet: The chapter concludes by introducing the WaveNet, a CNN architecture specifically designed for sequences with tens of thousands of time steps.\n",
        "\n",
        "Upcoming Exploration: The subsequent chapter promises further exploration of RNNs, emphasizing their applications in natural language processing. Additionally, newer architectures incorporating attention mechanisms will be discussed."
      ]
    },
    {
      "cell_type": "markdown",
      "metadata": {
        "id": "GoPqVQLlexEB"
      },
      "source": [
        "## Recurrent Neurons and Layers"
      ]
    },
    {
      "cell_type": "markdown",
      "metadata": {
        "id": "EByf8B3JexEB"
      },
      "source": [
        "Recurrent Neural Networks (RNNs) Overview:\n",
        "\n",
        "* Feedforward vs. Recurrent Networks: The text contrasts feedforward neural networks with recurrent neural networks (RNNs), highlighting the latter's bidirectional connections.\n",
        "\n",
        "* Basic Structure of an RNN: An introductory exploration of the simplest RNN structure, consisting of one neuron receiving inputs, producing an output, and feeding it back to itself.\n",
        "\n",
        "* Time Unrolling: The concept of unrolling the recurrent neuron through time, illustrating its evolution at each time step.\n",
        "\n",
        "* Layer of Recurrent Neurons: The extension to multiple neurons in a layer, emphasizing their connectivity to both input vectors and outputs from the previous time step.\n",
        "\n",
        "Mathematics Behind RNNs:\n",
        "\n",
        "* Weight Matrices and Output Calculation: Explanation of the weight matrices, W and W, and the mathematical formulation for computing the output of the entire recurrent layer.\n",
        "\n",
        "* Mini-Batch Processing: Demonstrating the simultaneous computation of the recurrent layer's output for a whole mini-batch.\n",
        "\n",
        "* Memory Cells: Introduction to the notion of memory cells within an RNN, highlighting their ability to retain information across time steps.\n",
        "\n",
        "* Cell State and Output: Describing the relationship between a cell's state at a given time step and its output, with a glimpse into more complex cells capable of learning longer patterns.\n",
        "\n",
        "Input-Output Sequences:\n",
        "\n",
        "* Simultaneous Input and Output Sequences: The capability of an RNN to handle input and output sequences concurrently, with potential applications in predicting time series like stock prices.\n",
        "\n",
        "* Different Sequence Architectures: An overview of various sequence architectures, including sequence-to-vector, vector-to-sequence, and Encoder-Decoder networks, each serving different purposes.\n",
        "\n",
        "Training Challenges:\n",
        "\n",
        "* Training a Recurrent Neural Network: The text concludes by posing the question of how to train an RNN, paving the way for further exploration in subsequent sections."
      ]
    },
    {
      "cell_type": "markdown",
      "metadata": {
        "id": "2Z8WNQerexEB"
      },
      "source": [
        "## Training RNNs"
      ]
    },
    {
      "cell_type": "markdown",
      "metadata": {
        "id": "Jk4XTYeEexEB"
      },
      "source": [
        "Training an RNN: Backpropagation Through Time (BPTT):\n",
        "\n",
        "* Unrolling Through Time: The key strategy in training an RNN involves unrolling it through time, allowing for the application of regular backpropagation.\n",
        "\n",
        "* Backpropagation Through Time (BPTT): The process begins with a forward pass through the unrolled network, followed by the evaluation of the output sequence using a cost function. This cost function may selectively consider outputs, for instance, in a sequence-to-vector RNN where only the last output matters. Gradients of the cost function are then propagated backward through the unrolled network.\n",
        "\n",
        "* Model Parameter Update: The final step involves updating the model parameters using the gradients computed during BPTT. Importantly, the gradients flow backward through all relevant outputs used by the cost function, ensuring a comprehensive learning process.\n",
        "\n",
        "* Implementation with tf.keras: The text mentions that the complexity of BPTT is managed by tf.keras, simplifying the coding process for practitioners.\n",
        "\n",
        "* Readiness to Code: The section concludes by indicating the readiness to start coding, emphasizing the streamlined implementation facilitated by tf.keras."
      ]
    },
    {
      "cell_type": "markdown",
      "metadata": {
        "id": "mQDk6G4XexEB"
      },
      "source": [
        "**Understanding Time Series Data:**\n",
        "\n",
        "- *Definition:* Time series data involves sequences of one or more values per time step, with univariate time series having a single value and multivariate time series having multiple values at each time step.\n",
        "\n",
        "- *Common Tasks:* Predicting future values (forecasting) and imputing missing values from the past (imputation) are common tasks associated with time series data.\n",
        "\n",
        "- *Data Generation Function:* The text introduces a function, `generate_time_series()`, creating synthetic time series data for illustration. The function produces univariate time series with two sine waves of random frequencies and phases, plus some noise.\n",
        "\n",
        "- *Data Representation:* Time series input features are generally represented as 3D arrays of shape [batch size, time steps, dimensionality], where dimensionality is 1 for univariate and more for multivariate time series.\n",
        "\n",
        "**Creating Training, Validation, and Test Sets:**\n",
        "\n",
        "- *Data Splitting:* The generated time series data is split into training, validation, and test sets for model evaluation.\n",
        "\n",
        "- *Baseline Metrics:* Before employing Recurrent Neural Networks (RNNs), baseline metrics are established. Naive forecasting, predicting the last value in each series, and a simple fully connected network are used for comparison.\n",
        "\n",
        "**Implementing Simple RNN:**\n",
        "\n",
        "- *Introduction to Simple RNN:* A basic RNN model is introduced with a single layer containing a single neuron.\n",
        "\n",
        "- *Model Evaluation:* The simple RNN is evaluated, and its Mean Squared Error (MSE) is compared to baseline metrics.\n",
        "\n",
        "**Deepening RNNs:**\n",
        "\n",
        "- *Introduction to Deep RNN:* To enhance performance, multiple layers of cells are stacked, creating a deep RNN.\n",
        "\n",
        "- *Implementation:* The text provides a simple implementation of a deep RNN using three SimpleRNN layers.\n",
        "\n",
        "- *Model Evaluation:* The deep RNN is evaluated and outperforms the simple RNN and the fully connected network.\n",
        "\n",
        "**Fine-Tuning Model Architecture:**\n",
        "\n",
        "- *Optimizing Output Layer:* The text suggests replacing the output layer with a Dense layer for faster runtime and flexibility in choosing the output activation function.\n",
        "\n",
        "- *Model Adjustment:* Return sequences parameter is adjusted for the second (now last) recurrent layer.\n",
        "\n",
        "- *Training and Evaluation:* The modified model is trained and evaluated, demonstrating comparable performance.\n",
        "\n",
        "**Forecasting Multiple Time Steps:**\n",
        "\n",
        "- *Task Expansion:* The text introduces the idea of predicting multiple future values by changing the target appropriately.\n",
        "\n",
        "- *Anticipating Multiple Values:* The question arises about predicting the next 10 values instead of just one, prompting further exploration in the text.\n"
      ]
    },
    {
      "cell_type": "markdown",
      "metadata": {
        "id": "Gs_kxkNZexEC"
      },
      "source": [
        "Also it is presented different approaches to time series forecasting using recurrent neural networks (RNNs) and related techniques. Here's a summarized overview:\n",
        "\n",
        "Approach 1: One-Step Forecasting\n",
        "\n",
        "Use a pre-trained RNN model to predict the next value in a time series.\n",
        "Iterate this process by adding the predicted value to the inputs and predicting the next value.\n",
        "Evaluation shows an MSE (Mean Squared Error) of about 0.029 on the validation set.\n",
        "Approach 2: Multi-Step Forecasting with Sequence-to-Vector Model\n",
        "\n",
        "Train an RNN to predict the next 10 values at once using a sequence-to-vector model.\n",
        "The output layer has 10 units instead of 1.\n",
        "This model performs well, with an MSE for the next 10 time steps of about 0.008.\n",
        "Approach 3: Sequence-to-Sequence RNN\n",
        "\n",
        "Train an RNN to predict the next 10 values at each time step, turning it into a sequence-to-sequence RNN.\n",
        "Use TimeDistributed layer to apply the output Dense layer at every time step.\n",
        "The model shows improved stability and speed during training, resulting in a validation MSE of about 0.006.\n",
        "Dealing with Unstable Gradients\n",
        "\n",
        "Use techniques like good parameter initialization, faster optimizers, dropout, and gradient clipping to address the unstable gradients problem in training RNNs.\n",
        "Handling Short-Term Memory Problem\n",
        "\n",
        "Introduce Long Short-Term Memory (LSTM) cells, which have proven effective in capturing long-term dependencies in data.\n",
        "LSTM cells include forget, input, and output gates to control memory storage and retrieval.\n",
        "Gated Recurrent Unit (GRU) Cells\n",
        "\n",
        "An alternative to LSTM, GRU cells simplify the architecture by merging short-term and long-term states.\n",
        "GRU includes a single gate controller for forget and input gates and lacks an output gate.\n",
        "1D Convolutional Layers\n",
        "\n",
        "Combine RNNs with 1D convolutional layers to process sequences.\n",
        "Downsample input sequences to help RNNs capture longer patterns.\n",
        "Use convolutional layers with appropriate padding and strides to adjust sequence lengths.\n",
        "WaveNet Architecture\n",
        "\n",
        "Introduce the WaveNet architecture, which stacks 1D convolutional layers with increasing dilation rates to efficiently capture short- and long-term patterns.\n",
        "The architecture involves multiple blocks of convolutional layers with varying dilation rates.\n",
        "The approaches discussed provide insights into improving the performance of RNNs for time series forecasting by addressing challenges such as unstable gradients and short-term memory limitations."
      ]
    },
    {
      "cell_type": "code",
      "execution_count": null,
      "metadata": {
        "id": "EIFyBGJgexEC"
      },
      "outputs": [],
      "source": [
        "# SETUP:\n",
        "\n",
        "# Python ≥3.5 is required\n",
        "import sys\n",
        "assert sys.version_info >= (3, 5)\n",
        "\n",
        "# Is this notebook running on Colab or Kaggle?\n",
        "IS_COLAB = \"google.colab\" in sys.modules\n",
        "IS_KAGGLE = \"kaggle_secrets\" in sys.modules\n",
        "\n",
        "# Scikit-Learn ≥0.20 is required\n",
        "import sklearn\n",
        "assert sklearn.__version__ >= \"0.20\"\n",
        "\n",
        "# TensorFlow ≥2.0 is required\n",
        "import tensorflow as tf\n",
        "from tensorflow import keras\n",
        "assert tf.__version__ >= \"2.0\"\n",
        "\n",
        "if not tf.config.list_physical_devices('GPU'):\n",
        "    print(\"No GPU was detected. LSTMs and CNNs can be very slow without a GPU.\")\n",
        "    if IS_COLAB:\n",
        "        print(\"Go to Runtime > Change runtime and select a GPU hardware accelerator.\")\n",
        "    if IS_KAGGLE:\n",
        "        print(\"Go to Settings > Accelerator and select GPU.\")\n",
        "\n",
        "# Common imports\n",
        "import numpy as np\n",
        "import os\n",
        "from pathlib import Path\n",
        "\n",
        "# to make this notebook's output stable across runs\n",
        "np.random.seed(42)\n",
        "tf.random.set_seed(42)\n",
        "\n",
        "# To plot pretty figures\n",
        "%matplotlib inline\n",
        "import matplotlib as mpl\n",
        "import matplotlib.pyplot as plt\n",
        "mpl.rc('axes', labelsize=14)\n",
        "mpl.rc('xtick', labelsize=12)\n",
        "mpl.rc('ytick', labelsize=12)\n",
        "\n",
        "# Where to save the figures\n",
        "PROJECT_ROOT_DIR = \".\"\n",
        "CHAPTER_ID = \"rnn\"\n",
        "IMAGES_PATH = os.path.join(PROJECT_ROOT_DIR, \"images\", CHAPTER_ID)\n",
        "os.makedirs(IMAGES_PATH, exist_ok=True)\n",
        "\n",
        "def save_fig(fig_id, tight_layout=True, fig_extension=\"png\", resolution=300):\n",
        "    path = os.path.join(IMAGES_PATH, fig_id + \".\" + fig_extension)\n",
        "    print(\"Saving figure\", fig_id)\n",
        "    if tight_layout:\n",
        "        plt.tight_layout()\n",
        "    plt.savefig(path, format=fig_extension, dpi=resolution)"
      ]
    },
    {
      "cell_type": "markdown",
      "metadata": {
        "id": "AqWP8Mqae2B5"
      },
      "source": [
        "# Basic RNNs\n"
      ]
    },
    {
      "cell_type": "markdown",
      "metadata": {
        "id": "feggXDuOe6ZR"
      },
      "source": [
        "Generate the Dataset\n"
      ]
    },
    {
      "cell_type": "code",
      "execution_count": null,
      "metadata": {
        "id": "r4lbMv77exED"
      },
      "outputs": [],
      "source": [
        "def generate_time_series(batch_size, n_steps):\n",
        "    freq1, freq2, offsets1, offsets2 = np.random.rand(4, batch_size, 1)\n",
        "    time = np.linspace(0, 1, n_steps)\n",
        "    series = 0.5 * np.sin((time - offsets1) * (freq1 * 10 + 10))  #   wave 1\n",
        "    series += 0.2 * np.sin((time - offsets2) * (freq2 * 20 + 20)) # + wave 2\n",
        "    series += 0.1 * (np.random.rand(batch_size, n_steps) - 0.5)   # + noise\n",
        "    return series[..., np.newaxis].astype(np.float32)"
      ]
    },
    {
      "cell_type": "code",
      "execution_count": null,
      "metadata": {
        "id": "TnG0Y56hfA-k"
      },
      "outputs": [],
      "source": [
        "np.random.seed(42)\n",
        "\n",
        "n_steps = 50\n",
        "series = generate_time_series(10000, n_steps + 1)\n",
        "X_train, y_train = series[:7000, :n_steps], series[:7000, -1]\n",
        "X_valid, y_valid = series[7000:9000, :n_steps], series[7000:9000, -1]\n",
        "X_test, y_test = series[9000:, :n_steps], series[9000:, -1]"
      ]
    },
    {
      "cell_type": "code",
      "execution_count": null,
      "metadata": {
        "id": "1xUV2jULfEEB"
      },
      "outputs": [],
      "source": [
        "X_train.shape, y_train.shape\n"
      ]
    },
    {
      "cell_type": "code",
      "execution_count": null,
      "metadata": {
        "id": "xbw6gQO1fLID"
      },
      "outputs": [],
      "source": [
        "def plot_series(series, y=None, y_pred=None, x_label=\"$t$\", y_label=\"$x(t)$\", legend=True):\n",
        "    plt.plot(series, \".-\")\n",
        "    if y is not None:\n",
        "        plt.plot(n_steps, y, \"bo\", label=\"Target\")\n",
        "    if y_pred is not None:\n",
        "        plt.plot(n_steps, y_pred, \"rx\", markersize=10, label=\"Prediction\")\n",
        "    plt.grid(True)\n",
        "    if x_label:\n",
        "        plt.xlabel(x_label, fontsize=16)\n",
        "    if y_label:\n",
        "        plt.ylabel(y_label, fontsize=16, rotation=0)\n",
        "    plt.hlines(0, 0, 100, linewidth=1)\n",
        "    plt.axis([0, n_steps + 1, -1, 1])\n",
        "    if legend and (y or y_pred):\n",
        "        plt.legend(fontsize=14, loc=\"upper left\")\n",
        "\n",
        "fig, axes = plt.subplots(nrows=1, ncols=3, sharey=True, figsize=(12, 4))\n",
        "for col in range(3):\n",
        "    plt.sca(axes[col])\n",
        "    plot_series(X_valid[col, :, 0], y_valid[col, 0],\n",
        "                y_label=(\"$x(t)$\" if col==0 else None),\n",
        "                legend=(col == 0))\n",
        "save_fig(\"time_series_plot\")\n",
        "plt.show()"
      ]
    },
    {
      "cell_type": "markdown",
      "metadata": {
        "id": "APll9ym-iW_m"
      },
      "source": [
        "# Computing Some Baselines\n"
      ]
    },
    {
      "cell_type": "markdown",
      "metadata": {
        "id": "01lsrHCEiYRr"
      },
      "source": [
        "#### Naive predictions (just predict the last observed value):\n",
        "\n"
      ]
    },
    {
      "cell_type": "code",
      "execution_count": null,
      "metadata": {
        "id": "0QwopXskfOxt"
      },
      "outputs": [],
      "source": [
        "y_pred = X_valid[:, -1]\n",
        "np.mean(keras.losses.mean_squared_error(y_valid, y_pred))"
      ]
    },
    {
      "cell_type": "code",
      "execution_count": null,
      "metadata": {
        "id": "L9MTM5QmiHhj"
      },
      "outputs": [],
      "source": [
        "plot_series(X_valid[0, :, 0], y_valid[0, 0], y_pred[0, 0])\n",
        "plt.show()"
      ]
    },
    {
      "cell_type": "code",
      "execution_count": null,
      "metadata": {
        "id": "b14YFhgGiKQR"
      },
      "outputs": [],
      "source": [
        "np.random.seed(42)\n",
        "tf.random.set_seed(42)\n",
        "\n",
        "model = keras.models.Sequential([\n",
        "    keras.layers.Flatten(input_shape=[50, 1]),\n",
        "    keras.layers.Dense(1)\n",
        "])\n",
        "\n",
        "model.compile(loss=\"mse\", optimizer=\"adam\")\n",
        "history = model.fit(X_train, y_train, epochs=10,\n",
        "                    validation_data=(X_valid, y_valid))"
      ]
    },
    {
      "cell_type": "code",
      "execution_count": null,
      "metadata": {
        "id": "NkT3meEiiO5Z"
      },
      "outputs": [],
      "source": [
        "model.evaluate(X_valid, y_valid)\n"
      ]
    },
    {
      "cell_type": "code",
      "execution_count": null,
      "metadata": {
        "id": "XJccjYBQiRVI"
      },
      "outputs": [],
      "source": [
        "def plot_learning_curves(loss, val_loss):\n",
        "    plt.plot(np.arange(len(loss)) + 0.5, loss, \"b.-\", label=\"Training loss\")\n",
        "    plt.plot(np.arange(len(val_loss)) + 1, val_loss, \"r.-\", label=\"Validation loss\")\n",
        "    plt.gca().xaxis.set_major_locator(mpl.ticker.MaxNLocator(integer=True))\n",
        "    plt.axis([1, 20, 0, 0.05])\n",
        "    plt.legend(fontsize=14)\n",
        "    plt.xlabel(\"Epochs\")\n",
        "    plt.ylabel(\"Loss\")\n",
        "    plt.grid(True)\n",
        "\n",
        "plot_learning_curves(history.history[\"loss\"], history.history[\"val_loss\"])\n",
        "plt.show()"
      ]
    },
    {
      "cell_type": "code",
      "execution_count": null,
      "metadata": {
        "id": "EEbz3gDgiUgQ"
      },
      "outputs": [],
      "source": [
        "y_pred = model.predict(X_valid)\n",
        "plot_series(X_valid[0, :, 0], y_valid[0, 0], y_pred[0, 0])\n",
        "plt.show()"
      ]
    },
    {
      "cell_type": "markdown",
      "metadata": {
        "id": "R_BahY5wicrc"
      },
      "source": [
        "#### Using a Simple RNN\n"
      ]
    },
    {
      "cell_type": "code",
      "execution_count": null,
      "metadata": {
        "id": "kiq-Ui7fiaMj"
      },
      "outputs": [],
      "source": [
        "np.random.seed(42)\n",
        "tf.random.set_seed(42)\n",
        "\n",
        "model = keras.models.Sequential([\n",
        "    keras.layers.SimpleRNN(1, input_shape=[None, 1])\n",
        "])\n",
        "\n",
        "optimizer = keras.optimizers.Adam(learning_rate=0.005)\n",
        "model.compile(loss=\"mse\", optimizer=optimizer)\n",
        "history = model.fit(X_train, y_train, epochs=10,\n",
        "                    validation_data=(X_valid, y_valid))"
      ]
    },
    {
      "cell_type": "code",
      "execution_count": null,
      "metadata": {
        "id": "NKsM3MyOGzFX"
      },
      "outputs": [],
      "source": [
        "model.evaluate(X_valid, y_valid)\n"
      ]
    },
    {
      "cell_type": "code",
      "execution_count": null,
      "metadata": {
        "id": "IbxCw_huGzkY"
      },
      "outputs": [],
      "source": [
        "plot_learning_curves(history.history[\"loss\"], history.history[\"val_loss\"])\n",
        "plt.show()"
      ]
    },
    {
      "cell_type": "code",
      "execution_count": null,
      "metadata": {
        "id": "crNdGfKdG3D6"
      },
      "outputs": [],
      "source": [
        "y_pred = model.predict(X_valid)\n",
        "plot_series(X_valid[0, :, 0], y_valid[0, 0], y_pred[0, 0])\n",
        "plt.show()"
      ]
    },
    {
      "cell_type": "markdown",
      "metadata": {
        "id": "tvN02fuxG9CG"
      },
      "source": [
        "### Deep RNNs\n"
      ]
    },
    {
      "cell_type": "code",
      "execution_count": null,
      "metadata": {
        "id": "2Qn1xmcNG6SE"
      },
      "outputs": [],
      "source": [
        "np.random.seed(42)\n",
        "tf.random.set_seed(42)\n",
        "\n",
        "model = keras.models.Sequential([\n",
        "    keras.layers.SimpleRNN(20, return_sequences=True, input_shape=[None, 1]),\n",
        "    keras.layers.SimpleRNN(20, return_sequences=True),\n",
        "    keras.layers.SimpleRNN(1)\n",
        "])\n",
        "\n",
        "model.compile(loss=\"mse\", optimizer=\"adam\")\n",
        "history = model.fit(X_train, y_train, epochs=20,\n",
        "                    validation_data=(X_valid, y_valid))"
      ]
    },
    {
      "cell_type": "code",
      "execution_count": null,
      "metadata": {
        "id": "vfGv3Or0iUWm"
      },
      "outputs": [],
      "source": [
        "model.evaluate(X_valid, y_valid)\n"
      ]
    },
    {
      "cell_type": "code",
      "execution_count": null,
      "metadata": {
        "id": "9IyyXKhDiXAp"
      },
      "outputs": [],
      "source": [
        "plot_learning_curves(history.history[\"loss\"], history.history[\"val_loss\"])\n",
        "plt.show()"
      ]
    },
    {
      "cell_type": "code",
      "execution_count": null,
      "metadata": {
        "id": "zBfW25IriZc5"
      },
      "outputs": [],
      "source": [
        "y_pred = model.predict(X_valid)\n",
        "plot_series(X_valid[0, :, 0], y_valid[0, 0], y_pred[0, 0])\n",
        "plt.show()"
      ]
    },
    {
      "cell_type": "code",
      "execution_count": null,
      "metadata": {
        "id": "DikQznKIidyO"
      },
      "outputs": [],
      "source": [
        "np.random.seed(42)\n",
        "tf.random.set_seed(42)\n",
        "\n",
        "model = keras.models.Sequential([\n",
        "    keras.layers.SimpleRNN(20, return_sequences=True, input_shape=[None, 1]),\n",
        "    keras.layers.SimpleRNN(20),\n",
        "    keras.layers.Dense(1)\n",
        "])\n",
        "\n",
        "model.compile(loss=\"mse\", optimizer=\"adam\")\n",
        "history = model.fit(X_train, y_train, epochs=10,\n",
        "                    validation_data=(X_valid, y_valid))"
      ]
    },
    {
      "cell_type": "code",
      "execution_count": null,
      "metadata": {
        "id": "0qvdCu_Oihtk"
      },
      "outputs": [],
      "source": [
        "model.evaluate(X_valid, y_valid)\n"
      ]
    },
    {
      "cell_type": "code",
      "execution_count": null,
      "metadata": {
        "id": "uR_s1KtSijuc"
      },
      "outputs": [],
      "source": [
        "plot_learning_curves(history.history[\"loss\"], history.history[\"val_loss\"])\n",
        "plt.show()"
      ]
    },
    {
      "cell_type": "code",
      "execution_count": null,
      "metadata": {
        "id": "JniFjog_iln-"
      },
      "outputs": [],
      "source": [
        "y_pred = model.predict(X_valid)\n",
        "plot_series(X_valid[0, :, 0], y_valid[0, 0], y_pred[0, 0])\n",
        "plt.show()"
      ]
    },
    {
      "cell_type": "markdown",
      "metadata": {
        "id": "IfVXDEphioWT"
      },
      "source": [
        "### Forecasting Several Steps Ahead"
      ]
    },
    {
      "cell_type": "code",
      "execution_count": null,
      "metadata": {
        "id": "hTO-n9LSiqfX"
      },
      "outputs": [],
      "source": [
        "np.random.seed(43) # not 42, as it would give the first series in the train set\n",
        "\n",
        "series = generate_time_series(1, n_steps + 10)\n",
        "X_new, Y_new = series[:, :n_steps], series[:, n_steps:]\n",
        "X = X_new\n",
        "for step_ahead in range(10):\n",
        "    y_pred_one = model.predict(X[:, step_ahead:])[:, np.newaxis, :]\n",
        "    X = np.concatenate([X, y_pred_one], axis=1)\n",
        "\n",
        "Y_pred = X[:, n_steps:]\n"
      ]
    },
    {
      "cell_type": "code",
      "execution_count": null,
      "metadata": {
        "id": "YANwer_xiq3a"
      },
      "outputs": [],
      "source": [
        "Y_pred.shape\n"
      ]
    },
    {
      "cell_type": "code",
      "execution_count": null,
      "metadata": {
        "id": "qwKegYtPivqU"
      },
      "outputs": [],
      "source": [
        "def plot_multiple_forecasts(X, Y, Y_pred):\n",
        "    n_steps = X.shape[1]\n",
        "    ahead = Y.shape[1]\n",
        "    plot_series(X[0, :, 0])\n",
        "    plt.plot(np.arange(n_steps, n_steps + ahead), Y[0, :, 0], \"bo-\", label=\"Actual\")\n",
        "    plt.plot(np.arange(n_steps, n_steps + ahead), Y_pred[0, :, 0], \"rx-\", label=\"Forecast\", markersize=10)\n",
        "    plt.axis([0, n_steps + ahead, -1, 1])\n",
        "    plt.legend(fontsize=14)\n",
        "\n",
        "plot_multiple_forecasts(X_new, Y_new, Y_pred)\n",
        "save_fig(\"forecast_ahead_plot\")\n",
        "plt.show()"
      ]
    },
    {
      "cell_type": "code",
      "source": [
        "np.random.seed(42)\n",
        "\n",
        "n_steps = 50\n",
        "series = generate_time_series(10000, n_steps + 10)\n",
        "X_train, Y_train = series[:7000, :n_steps], series[:7000, -10:, 0]\n",
        "X_valid, Y_valid = series[7000:9000, :n_steps], series[7000:9000, -10:, 0]\n",
        "X_test, Y_test = series[9000:, :n_steps], series[9000:, -10:, 0]"
      ],
      "metadata": {
        "id": "tuphIm38MSa2"
      },
      "execution_count": null,
      "outputs": []
    },
    {
      "cell_type": "code",
      "source": [
        "X = X_valid\n",
        "for step_ahead in range(10):\n",
        "    y_pred_one = model.predict(X)[:, np.newaxis, :]\n",
        "    X = np.concatenate([X, y_pred_one], axis=1)\n",
        "\n",
        "Y_pred = X[:, n_steps:, 0]"
      ],
      "metadata": {
        "id": "VPZS_7HIMVj4"
      },
      "execution_count": null,
      "outputs": []
    },
    {
      "cell_type": "code",
      "source": [
        "Y_pred.shape\n"
      ],
      "metadata": {
        "id": "qDoJQSWXMZMM"
      },
      "execution_count": null,
      "outputs": []
    },
    {
      "cell_type": "code",
      "source": [
        "np.mean(keras.metrics.mean_squared_error(Y_valid, Y_pred))\n"
      ],
      "metadata": {
        "id": "QOH7h9NHMcOU"
      },
      "execution_count": null,
      "outputs": []
    },
    {
      "cell_type": "code",
      "source": [
        "Y_naive_pred = np.tile(X_valid[:, -1], 10) # take the last time step value, and repeat it 10 times\n",
        "np.mean(keras.metrics.mean_squared_error(Y_valid, Y_naive_pred))"
      ],
      "metadata": {
        "id": "S7qkX8fyMfyK"
      },
      "execution_count": null,
      "outputs": []
    },
    {
      "cell_type": "code",
      "source": [
        "np.random.seed(42)\n",
        "tf.random.set_seed(42)\n",
        "\n",
        "model = keras.models.Sequential([\n",
        "    keras.layers.Flatten(input_shape=[50, 1]),\n",
        "    keras.layers.Dense(10)\n",
        "])\n",
        "\n",
        "model.compile(loss=\"mse\", optimizer=\"adam\")\n",
        "history = model.fit(X_train, Y_train, epochs=20,\n",
        "                    validation_data=(X_valid, Y_valid))"
      ],
      "metadata": {
        "id": "ewBIG6LyMjnW"
      },
      "execution_count": null,
      "outputs": []
    },
    {
      "cell_type": "code",
      "source": [
        "np.random.seed(42)\n",
        "tf.random.set_seed(42)\n",
        "\n",
        "model = keras.models.Sequential([\n",
        "    keras.layers.SimpleRNN(20, return_sequences=True, input_shape=[None, 1]),\n",
        "    keras.layers.SimpleRNN(20),\n",
        "    keras.layers.Dense(10)\n",
        "])\n",
        "\n",
        "model.compile(loss=\"mse\", optimizer=\"adam\")\n",
        "history = model.fit(X_train, Y_train, epochs=20,\n",
        "                    validation_data=(X_valid, Y_valid))"
      ],
      "metadata": {
        "id": "rRJHAUCyMous"
      },
      "execution_count": null,
      "outputs": []
    },
    {
      "cell_type": "code",
      "source": [],
      "metadata": {
        "id": "zAcwqfdyM0KQ"
      },
      "execution_count": null,
      "outputs": []
    },
    {
      "cell_type": "code",
      "source": [
        "np.random.seed(43)\n",
        "\n",
        "series = generate_time_series(1, 50 + 10)\n",
        "X_new, Y_new = series[:, :50, :], series[:, -10:, :]\n",
        "Y_pred = model.predict(X_new)[..., np.newaxis]"
      ],
      "metadata": {
        "id": "KbeeXHVsMsgX"
      },
      "execution_count": null,
      "outputs": []
    },
    {
      "cell_type": "code",
      "source": [
        "plot_multiple_forecasts(X_new, Y_new, Y_pred)\n",
        "plt.show()"
      ],
      "metadata": {
        "id": "N9wM9grrMt8R"
      },
      "execution_count": null,
      "outputs": []
    },
    {
      "cell_type": "code",
      "source": [
        "np.random.seed(42)\n",
        "\n",
        "n_steps = 50\n",
        "series = generate_time_series(10000, n_steps + 10)\n",
        "X_train = series[:7000, :n_steps]\n",
        "X_valid = series[7000:9000, :n_steps]\n",
        "X_test = series[9000:, :n_steps]\n",
        "Y = np.empty((10000, n_steps, 10))\n",
        "for step_ahead in range(1, 10 + 1):\n",
        "    Y[..., step_ahead - 1] = series[..., step_ahead:step_ahead + n_steps, 0]\n",
        "Y_train = Y[:7000]\n",
        "Y_valid = Y[7000:9000]\n",
        "Y_test = Y[9000:]"
      ],
      "metadata": {
        "id": "9awv63RoM_Dm"
      },
      "execution_count": null,
      "outputs": []
    },
    {
      "cell_type": "code",
      "source": [
        "X_train.shape, Y_train.shape\n"
      ],
      "metadata": {
        "id": "dU5YGLQFNCNI"
      },
      "execution_count": null,
      "outputs": []
    },
    {
      "cell_type": "code",
      "source": [
        "np.random.seed(42)\n",
        "tf.random.set_seed(42)\n",
        "\n",
        "model = keras.models.Sequential([\n",
        "    keras.layers.SimpleRNN(20, return_sequences=True, input_shape=[None, 1]),\n",
        "    keras.layers.SimpleRNN(20, return_sequences=True),\n",
        "    keras.layers.TimeDistributed(keras.layers.Dense(10))\n",
        "])\n",
        "\n",
        "def last_time_step_mse(Y_true, Y_pred):\n",
        "    return keras.metrics.mean_squared_error(Y_true[:, -1], Y_pred[:, -1])\n",
        "\n",
        "model.compile(loss=\"mse\", optimizer=keras.optimizers.Adam(learning_rate=0.01), metrics=[last_time_step_mse])\n",
        "history = model.fit(X_train, Y_train, epochs=20,\n",
        "                    validation_data=(X_valid, Y_valid))"
      ],
      "metadata": {
        "id": "-LEyJ4NSNFuZ"
      },
      "execution_count": null,
      "outputs": []
    },
    {
      "cell_type": "code",
      "source": [
        "np.random.seed(43)\n",
        "\n",
        "series = generate_time_series(1, 50 + 10)\n",
        "X_new, Y_new = series[:, :50, :], series[:, 50:, :]\n",
        "Y_pred = model.predict(X_new)[:, -1][..., np.newaxis]"
      ],
      "metadata": {
        "id": "Pu130z0MNJ3x"
      },
      "execution_count": null,
      "outputs": []
    },
    {
      "cell_type": "code",
      "source": [
        "plot_multiple_forecasts(X_new, Y_new, Y_pred)\n",
        "plt.show()"
      ],
      "metadata": {
        "id": "ufXYMBhXNGk1"
      },
      "execution_count": null,
      "outputs": []
    },
    {
      "cell_type": "markdown",
      "metadata": {
        "id": "ipV-WNVX8FlX"
      },
      "source": [
        "#### Deep RNN with Batch Norm\n"
      ]
    },
    {
      "cell_type": "code",
      "execution_count": null,
      "metadata": {
        "id": "zYrI_CbV8GnF"
      },
      "outputs": [],
      "source": [
        "np.random.seed(42)\n",
        "tf.random.set_seed(42)\n",
        "\n",
        "model = keras.models.Sequential([\n",
        "    keras.layers.SimpleRNN(20, return_sequences=True, input_shape=[None, 1]),\n",
        "    keras.layers.BatchNormalization(),\n",
        "    keras.layers.SimpleRNN(20, return_sequences=True),\n",
        "    keras.layers.BatchNormalization(),\n",
        "    keras.layers.TimeDistributed(keras.layers.Dense(10))\n",
        "])\n",
        "\n",
        "model.compile(loss=\"mse\", optimizer=\"adam\", metrics=[last_time_step_mse])\n",
        "history = model.fit(X_train, Y_train, epochs=20,\n",
        "                    validation_data=(X_valid, Y_valid))"
      ]
    },
    {
      "cell_type": "markdown",
      "metadata": {
        "id": "0K0WhRhR8NkQ"
      },
      "source": [
        "### Deep RNNs with Layer Norm\n"
      ]
    },
    {
      "cell_type": "code",
      "execution_count": null,
      "metadata": {
        "id": "awuHUX-R8Kx4"
      },
      "outputs": [],
      "source": [
        "from tensorflow.keras.layers import LayerNormalization\n"
      ]
    },
    {
      "cell_type": "code",
      "execution_count": null,
      "metadata": {
        "id": "0ZBJaOps8Q1p"
      },
      "outputs": [],
      "source": [
        "class LNSimpleRNNCell(keras.layers.Layer):\n",
        "    def __init__(self, units, activation=\"tanh\", **kwargs):\n",
        "        super().__init__(**kwargs)\n",
        "        self.state_size = units\n",
        "        self.output_size = units\n",
        "        self.simple_rnn_cell = keras.layers.SimpleRNNCell(units,\n",
        "                                                          activation=None)\n",
        "        self.layer_norm = LayerNormalization()\n",
        "        self.activation = keras.activations.get(activation)\n",
        "    def get_initial_state(self, inputs=None, batch_size=None, dtype=None):\n",
        "        if inputs is not None:\n",
        "            batch_size = tf.shape(inputs)[0]\n",
        "            dtype = inputs.dtype\n",
        "        return [tf.zeros([batch_size, self.state_size], dtype=dtype)]\n",
        "    def call(self, inputs, states):\n",
        "        outputs, new_states = self.simple_rnn_cell(inputs, states)\n",
        "        norm_outputs = self.activation(self.layer_norm(outputs))\n",
        "        return norm_outputs, [norm_outputs]"
      ]
    },
    {
      "cell_type": "code",
      "execution_count": null,
      "metadata": {
        "id": "-sfwulX_8TN7"
      },
      "outputs": [],
      "source": [
        "np.random.seed(42)\n",
        "tf.random.set_seed(42)\n",
        "\n",
        "model = keras.models.Sequential([\n",
        "    keras.layers.RNN(LNSimpleRNNCell(20), return_sequences=True,\n",
        "                     input_shape=[None, 1]),\n",
        "    keras.layers.RNN(LNSimpleRNNCell(20), return_sequences=True),\n",
        "    keras.layers.TimeDistributed(keras.layers.Dense(10))\n",
        "])\n",
        "\n",
        "model.compile(loss=\"mse\", optimizer=\"adam\", metrics=[last_time_step_mse])\n",
        "history = model.fit(X_train, Y_train, epochs=20,\n",
        "                    validation_data=(X_valid, Y_valid))"
      ]
    },
    {
      "cell_type": "markdown",
      "metadata": {
        "id": "L2DV_dyt8Yp1"
      },
      "source": [
        "#### Creating a Custom RNN Class\n"
      ]
    },
    {
      "cell_type": "code",
      "execution_count": null,
      "metadata": {
        "id": "_j5gWgyh8Wm6"
      },
      "outputs": [],
      "source": [
        "class MyRNN(keras.layers.Layer):\n",
        "    def __init__(self, cell, return_sequences=False, **kwargs):\n",
        "        super().__init__(**kwargs)\n",
        "        self.cell = cell\n",
        "        self.return_sequences = return_sequences\n",
        "        self.get_initial_state = getattr(\n",
        "            self.cell, \"get_initial_state\", self.fallback_initial_state)\n",
        "    def fallback_initial_state(self, inputs):\n",
        "        batch_size = tf.shape(inputs)[0]\n",
        "        return [tf.zeros([batch_size, self.cell.state_size], dtype=inputs.dtype)]\n",
        "    @tf.function\n",
        "    def call(self, inputs):\n",
        "        states = self.get_initial_state(inputs)\n",
        "        shape = tf.shape(inputs)\n",
        "        batch_size = shape[0]\n",
        "        n_steps = shape[1]\n",
        "        sequences = tf.TensorArray(\n",
        "            inputs.dtype, size=(n_steps if self.return_sequences else 0))\n",
        "        outputs = tf.zeros(shape=[batch_size, self.cell.output_size], dtype=inputs.dtype)\n",
        "        for step in tf.range(n_steps):\n",
        "            outputs, states = self.cell(inputs[:, step], states)\n",
        "            if self.return_sequences:\n",
        "                sequences = sequences.write(step, outputs)\n",
        "        if self.return_sequences:\n",
        "            return tf.transpose(sequences.stack(), [1, 0, 2])\n",
        "        else:\n",
        "            return outputs"
      ]
    },
    {
      "cell_type": "code",
      "execution_count": null,
      "metadata": {
        "id": "udUALHlM8eSx"
      },
      "outputs": [],
      "source": [
        "np.random.seed(42)\n",
        "tf.random.set_seed(42)\n",
        "\n",
        "model = keras.models.Sequential([\n",
        "    MyRNN(LNSimpleRNNCell(20), return_sequences=True,\n",
        "          input_shape=[None, 1]),\n",
        "    MyRNN(LNSimpleRNNCell(20), return_sequences=True),\n",
        "    keras.layers.TimeDistributed(keras.layers.Dense(10))\n",
        "])\n",
        "\n",
        "model.compile(loss=\"mse\", optimizer=\"adam\", metrics=['accuracy'])\n",
        "history = model.fit(X_train, Y_train, epochs=10,\n",
        "                    validation_data=(X_valid, Y_valid))"
      ]
    },
    {
      "cell_type": "markdown",
      "metadata": {
        "id": "S33lEiaE8j_Y"
      },
      "source": [
        "#### LSTMs"
      ]
    },
    {
      "cell_type": "code",
      "execution_count": null,
      "metadata": {
        "id": "SBpEuIB_8hUF"
      },
      "outputs": [],
      "source": [
        "np.random.seed(42)\n",
        "tf.random.set_seed(42)\n",
        "\n",
        "model = keras.models.Sequential([\n",
        "    keras.layers.LSTM(20, return_sequences=True, input_shape=[None, 1]),\n",
        "    keras.layers.LSTM(20, return_sequences=True),\n",
        "    keras.layers.TimeDistributed(keras.layers.Dense(10))\n",
        "])\n",
        "\n",
        "model.compile(loss=\"mse\", optimizer=\"adam\", metrics=['accuracy'])\n",
        "history = model.fit(X_train, Y_train, epochs=20,\n",
        "                    validation_data=(X_valid, Y_valid))"
      ]
    },
    {
      "cell_type": "code",
      "execution_count": null,
      "metadata": {
        "id": "-IF-BUQh8l_d"
      },
      "outputs": [],
      "source": [
        "model.evaluate(X_valid, Y_valid)\n"
      ]
    },
    {
      "cell_type": "code",
      "execution_count": null,
      "metadata": {
        "id": "WErzh1RW8pJ5"
      },
      "outputs": [],
      "source": [
        "plot_learning_curves(history.history[\"loss\"], history.history[\"val_loss\"])\n",
        "plt.show()"
      ]
    },
    {
      "cell_type": "markdown",
      "metadata": {
        "id": "Yp3qZBd88dhZ"
      },
      "source": []
    }
  ],
  "metadata": {
    "accelerator": "GPU",
    "colab": {
      "provenance": []
    },
    "kernelspec": {
      "display_name": "Python 3",
      "name": "python3"
    },
    "language_info": {
      "codemirror_mode": {
        "name": "ipython",
        "version": 3
      },
      "file_extension": ".py",
      "mimetype": "text/x-python",
      "name": "python",
      "nbconvert_exporter": "python",
      "pygments_lexer": "ipython3",
      "version": "3.10.13"
    }
  },
  "nbformat": 4,
  "nbformat_minor": 0
}