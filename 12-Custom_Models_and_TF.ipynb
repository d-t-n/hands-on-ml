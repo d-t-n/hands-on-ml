{
 "cells": [
  {
   "cell_type": "markdown",
   "metadata": {},
   "source": [
    "# Chapter 12. Custom Models and TensorFlow"
   ]
  },
  {
   "cell_type": "markdown",
   "metadata": {},
   "source": [
    "\n",
    "In this section, the focus shifts from using TensorFlow's high-level API, tf.keras, which is suitable for a majority of use cases, to exploring the lower-level Python API of TensorFlow. The lower-level API provides the flexibility to deeply customize neural network components like loss functions, metrics, layers, models, initializers, and more. This customization can be crucial for specialized tasks requiring fine-grained control over the training process, such as defining custom training loops or employing distinct optimizers for different parts of a network. The chapter aims to delve into this lower-level API, empowering users to enhance their models and training algorithms by leveraging TensorFlow's automatic graph generation capabilities. The initial overview serves as a precursor to the detailed exploration of these features."
   ]
  },
  {
   "cell_type": "code",
   "execution_count": 10,
   "metadata": {},
   "outputs": [],
   "source": [
    "#SETUP\n",
    "# Python ≥3.5 is required\n",
    "import sys\n",
    "assert sys.version_info >= (3, 5)\n",
    "\n",
    "# Scikit-Learn ≥0.20 is required\n",
    "import sklearn\n",
    "assert sklearn.__version__ >= \"0.20\"\n",
    "\n",
    "try:\n",
    "    # %tensorflow_version only exists in Colab.\n",
    "    %tensorflow_version 2.x\n",
    "except Exception:\n",
    "    pass\n",
    "\n",
    "# TensorFlow ≥2.4 is required in this notebook\n",
    "# Earlier 2.x versions will mostly work the same, but with a few bugs\n",
    "import tensorflow as tf\n",
    "from tensorflow import keras\n",
    "#assert tf.__version__ >= \"2.4\"\n",
    "\n",
    "# Common imports\n",
    "import numpy as np\n",
    "import os\n",
    "\n",
    "# to make this notebook's output stable across runs\n",
    "np.random.seed(42)\n",
    "tf.random.set_seed(42)\n",
    "\n",
    "# To plot pretty figures\n",
    "%matplotlib inline\n",
    "import matplotlib as mpl\n",
    "import matplotlib.pyplot as plt\n",
    "mpl.rc('axes', labelsize=14)\n",
    "mpl.rc('xtick', labelsize=12)\n",
    "mpl.rc('ytick', labelsize=12)\n",
    "\n",
    "# Where to save the figures\n",
    "PROJECT_ROOT_DIR = \".\"\n",
    "CHAPTER_ID = \"deep\"\n",
    "IMAGES_PATH = os.path.join(PROJECT_ROOT_DIR, \"images\", CHAPTER_ID)\n",
    "os.makedirs(IMAGES_PATH, exist_ok=True)\n",
    "\n",
    "def save_fig(fig_id, tight_layout=True, fig_extension=\"png\", resolution=300):\n",
    "    path = os.path.join(IMAGES_PATH, fig_id + \".\" + fig_extension)\n",
    "    print(\"Saving figure\", fig_id)\n",
    "    if tight_layout:\n",
    "        plt.tight_layout()\n",
    "    plt.savefig(path, format=fig_extension, dpi=resolution)"
   ]
  },
  {
   "cell_type": "markdown",
   "metadata": {},
   "source": [
    "## Introduction to TensorFlow:\n",
    "\n",
    "- TensorFlow is a powerful numerical computation library, particularly suited for large-scale Machine Learning and various other heavy computational tasks.\n",
    "- Developed by the Google Brain team, open-sourced in November 2015, and now the most popular Deep Learning library.\n",
    "\n",
    "## Core Features of TensorFlow:\n",
    "\n",
    "- Core similar to NumPy but with GPU support.\n",
    "- Supports distributed computing across multiple devices and servers.\n",
    "- Utilizes a just-in-time (JIT) compiler to optimize computations for speed and memory usage.\n",
    "- Computation graphs can be exported to a portable format for deployment in different environments.\n",
    "- Implements autodiff and provides optimized optimizers like RMSProp and Nadam for minimizing loss functions.\n",
    "\n",
    "## Additional Features and Packages:\n",
    "\n",
    "- **tf.keras:** An essential high-level API for building neural network architectures and models.\n",
    "- Data loading and preprocessing ops (tf.data, tf.io).\n",
    "- Image processing ops (tf.image) and signal processing ops (tf.signal).\n",
    "\n",
    "## TensorFlow's Execution and Architecture:\n",
    "\n",
    "- Operations (ops) are implemented using highly efficient C++ code, often with multiple device-specific kernels.\n",
    "- Architecture includes high-level APIs like tf.keras and tf.data for ease of use, but also allows lower-level Python API for flexibility in handling tensors directly.\n",
    "\n",
    "## Diversity of Usage:\n",
    "\n",
    "- TensorFlow runs on various platforms including Windows, Linux, macOS, and mobile devices (iOS, Android) through TensorFlow Lite.\n",
    "- Provides APIs in different languages like C++, Java, Go, Swift, and even JavaScript (TensorFlow.js).\n",
    "\n",
    "## TensorFlow Ecosystem and Community:\n",
    "\n",
    "- TensorBoard for visualization, TensorFlow Extended (TFX) for productionizing projects, TensorFlow Hub for downloading and reusing pretrained neural networks, and TensorFlow Resources for finding projects and implementations.\n",
    "- A dedicated community and development team, with active contributions and support through platforms like Stack Overflow, GitHub, and Google groups.\n"
   ]
  },
  {
   "cell_type": "markdown",
   "metadata": {},
   "source": [
    "## Using TensorFlow like NumPy"
   ]
  },
  {
   "cell_type": "markdown",
   "metadata": {},
   "source": [
    "**Summary of TensorFlow's API and Keras' Low-Level API:**\n",
    "\n",
    "**TensorFlow's API:**\n",
    "\n",
    "- **Tensors and Operations:**\n",
    "  - Tensors in TensorFlow are multidimensional arrays that flow from operation to operation.\n",
    "  - Operations like tf.constant() create tensors and support indexing, arithmetic operations, and more.\n",
    "  \n",
    "- **Arithmetic and Operations:**\n",
    "  - Arithmetic operations such as addition, multiplication, square, exponentiation, and matrix operations are readily available in TensorFlow.\n",
    "  - TensorFlow provides equivalent functions for most NumPy operations, but with some differences in function names and behavior.\n",
    "  \n",
    "- **TensorFlow Operations:**\n",
    "  - Operations like tf.add(), tf.multiply(), tf.square(), tf.exp(), etc., are fundamental in TensorFlow.\n",
    "  - Operations have aliases to maintain concise naming and well-organized packages.\n",
    "\n",
    "**Keras' Low-Level API:**\n",
    "\n",
    "- **Introduction to Keras API:**\n",
    "  - Keras, a high-level neural networks API, also provides a low-level API accessible through keras.backend.\n",
    "  - It includes functions like square(), exp(), and sqrt(), which usually map to corresponding TensorFlow operations.\n",
    "\n",
    "- **Usage and Portability:**\n",
    "  - The low-level Keras functions are useful for writing portable code compatible with various Keras implementations.\n",
    "  - Despite this, in this book, TensorFlow operations are primarily used for a broader coverage of functions.\n",
    "\n",
    "**Note:** TensorFlow's API encompasses tensors and operations, enabling various mathematical and computational operations. Keras, a popular high-level API, offers a low-level API (keras.backend) for compatibility and portability, allowing for access to key functions. In practice, the choice between using TensorFlow operations directly or Keras' low-level API depends on the specific requirements and desired compatibility with different Keras implementations.\n"
   ]
  },
  {
   "cell_type": "code",
   "execution_count": null,
   "metadata": {},
   "outputs": [],
   "source": []
  }
 ],
 "metadata": {
  "kernelspec": {
   "display_name": "tf",
   "language": "python",
   "name": "python3"
  },
  "language_info": {
   "codemirror_mode": {
    "name": "ipython",
    "version": 3
   },
   "file_extension": ".py",
   "mimetype": "text/x-python",
   "name": "python",
   "nbconvert_exporter": "python",
   "pygments_lexer": "ipython3",
   "version": "3.10.10"
  },
  "orig_nbformat": 4
 },
 "nbformat": 4,
 "nbformat_minor": 2
}
