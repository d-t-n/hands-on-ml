{
 "cells": [
  {
   "cell_type": "markdown",
   "metadata": {},
   "source": [
    "# Chapter 14. Deep Computer Vision Using Convolutional Neural Networks"
   ]
  },
  {
   "cell_type": "markdown",
   "metadata": {},
   "source": [
    "The chapter discusses the evolution of computer capabilities in tasks such as image recognition, emphasizing the complexity of human perception compared to machines. It highlights the role of specialized sensory modules in our brains, making perception appear effortless to humans. The focus then shifts to Convolutional Neural Networks (CNNs), originating from the study of the brain's visual cortex, which have demonstrated significant advancements in image recognition due to increased computational power, training data, and innovative training methods. CNNs play a crucial role in various applications like image search, self-driving cars, and video classification. The chapter promises to delve into the origins and structure of CNNs, their implementation using TensorFlow and Keras, and their success in visual tasks such as object detection and semantic segmentation."
   ]
  },
  {
   "cell_type": "code",
   "execution_count": null,
   "metadata": {},
   "outputs": [],
   "source": []
  }
 ],
 "metadata": {
  "language_info": {
   "name": "python"
  },
  "orig_nbformat": 4
 },
 "nbformat": 4,
 "nbformat_minor": 2
}
